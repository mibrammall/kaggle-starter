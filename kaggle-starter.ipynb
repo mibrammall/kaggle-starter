{
 "cells": [
  {
   "cell_type": "markdown",
   "metadata": {},
   "source": [
    "Generate a token using the kaggle API, and insert the username and key fields into the following. Do not commit edits to this line in to source control."
   ]
  },
  {
   "cell_type": "code",
   "execution_count": null,
   "metadata": {},
   "outputs": [],
   "source": [
    "# Do not commit notebooks containing edits to this line into source control.\n",
    "username = 'XXX'\n",
    "key = 'XXX'\n",
    "\n",
    "! pip install kaggle\n",
    "! mkdir .kaggle\n",
    "! touch .kaggle/kaggle.json\n",
    "token = {\"username\":username,\"key\":key}\n",
    "\n",
    "with open(\"./.kaggle/kaggle.json\", \"w\") as file:\n",
    "    json.dump(token, file)\n",
    "    \n",
    "! cp /content/.kaggle/kaggle.json ~/.kaggle/kaggle.json\n",
    "\n",
    "import json\n",
    "\n",
    "! chmod 600 ~/.kaggle/kaggle.json"
   ]
  },
  {
   "cell_type": "markdown",
   "metadata": {},
   "source": [
    "Go to the page of the competition you want data from and copy the text that looks like the commented command below, and run using the '!' notation of the Jupyter notebook."
   ]
  },
  {
   "cell_type": "code",
   "execution_count": null,
   "metadata": {},
   "outputs": [],
   "source": [
    "# ! kaggle competitions download -c understanding_cloud_organization"
   ]
  }
 ],
 "metadata": {
  "kernelspec": {
   "display_name": "Python 3",
   "language": "python",
   "name": "python3"
  },
  "language_info": {
   "codemirror_mode": {
    "name": "ipython",
    "version": 3
   },
   "file_extension": ".py",
   "mimetype": "text/x-python",
   "name": "python",
   "nbconvert_exporter": "python",
   "pygments_lexer": "ipython3",
   "version": "3.6.8"
  }
 },
 "nbformat": 4,
 "nbformat_minor": 4
}
